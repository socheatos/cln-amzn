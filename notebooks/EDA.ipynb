{
 "cells": [
  {
   "cell_type": "code",
   "execution_count": 1,
   "metadata": {},
   "outputs": [
    {
     "name": "stderr",
     "output_type": "stream",
     "text": [
      "Setting default log level to \"WARN\".\n",
      "To adjust logging level use sc.setLogLevel(newLevel). For SparkR, use setLogLevel(newLevel).\n",
      "24/10/04 14:24:58 WARN NativeCodeLoader: Unable to load native-hadoop library for your platform... using builtin-java classes where applicable\n"
     ]
    }
   ],
   "source": [
    "# data source https://nijianmo.github.io/amazon/index.html\n",
    "\n",
    "import pyspark\n",
    "from pyspark.sql import functions as F\n",
    "import utils\n",
    "\n",
    "spark = pyspark.sql.SparkSession.builder \\\n",
    "    .appName(\"Amazon Product Simplifier\") \\\n",
    "    .getOrCreate()\n",
    "\n",
    "# gets rid of the COLUMN ALREADY EXISTS error\n",
    "spark.conf.set('spark.sql.caseSensitive', True) \n",
    "spark.catalog.clearCache()\n",
    "\n",
    "\n",
    "REVIEW_DATA = '../dataset/Clothing_Shoes_and_Jewelry.json'\n",
    "PRODUCT_DATA = '../dataset/meta_Clothing_Shoes_and_Jewelry.json'\n",
    "SAMPLE_PRODUCTDATA = '../dataset/sample2.json'"
   ]
  },
  {
   "cell_type": "markdown",
   "metadata": {},
   "source": [
    "where\n",
    "\n",
    "- asin - ID of the product, e.g. 0000031852\n",
    "- title - name of the product\n",
    "- feature - bullet-point format features of the product\n",
    "- description - description of the product\n",
    "- price - price in US dollars (at time of crawl)\n",
    "- imageURL - url of the product image\n",
    "- imageURL - url of the high resolution product image\n",
    "- related - related products (also bought, also viewed, bought together, buy after viewing)\n",
    "- salesRank - sales rank information\n",
    "- brand - brand name\n",
    "- categories - list of categories the product belongs to\n",
    "- tech1 - the first technical detail table of the product\n",
    "- tech2 - the second technical detail table of the product\n",
    "- similar - similar product table"
   ]
  },
  {
   "cell_type": "code",
   "execution_count": 2,
   "metadata": {},
   "outputs": [
    {
     "name": "stderr",
     "output_type": "stream",
     "text": [
      "24/10/04 14:25:11 WARN package: Truncated the string representation of a plan since it was too large. This behavior can be adjusted by setting 'spark.sql.debug.maxToStringFields'.\n"
     ]
    }
   ],
   "source": [
    "product_data = spark.read.json(PRODUCT_DATA)\n",
    "product_data = product_data.drop('imageURL','imageURLHighRes','date','tech1','tech2','details','fit')\n",
    "# product_data = product_data.drop('similar_item')\n",
    "\n",
    "# product_data.show(10)"
   ]
  },
  {
   "cell_type": "code",
   "execution_count": 3,
   "metadata": {},
   "outputs": [],
   "source": [
    "# we're gonna erly heavily on feature and description, drop null\n",
    "product_data = product_data.na.drop(subset=['description','feature'])\n",
    "\n",
    "# regex extract for rank of in clothing shoes & jewelry and cast to integer\n",
    "\n",
    "# main cateogries controls the rank\n",
    "# extract rank and cast to int\n",
    "EXP = r'(\\d*\\,*\\d*\\,*\\d+)\\s*in\\s*Clothing,\\s*Shoes\\s*\\&*\\s*Jewelry'\n",
    "product_data = product_data.withColumn('rank',F.regexp_replace(\n",
    "                                               F.regexp_extract('rank',EXP,1),\",\",'')\n",
    "                                                .cast('int')\n",
    "                                        )\n",
    "\n",
    "# regex extract price and change to float type\n",
    "EXP = r'\\$*(\\d+\\.*\\d+)'\n",
    "product_data = product_data.withColumn('price',F.regexp_extract('price',EXP,1)\n",
    "                                                .cast('float')\n",
    "                                        )\n",
    "\n",
    "\n",
    "# trim white space and "
   ]
  },
  {
   "cell_type": "code",
   "execution_count": null,
   "metadata": {},
   "outputs": [],
   "source": [
    "# # prior to preprocess\n",
    "# # this method will duplicate the original df \n",
    "\n",
    "# product_data = product_data.withColumn(\"overlap\", F.array_intersect(F.col('category'),F.col('feature')))\n",
    "# product_data = product_data.withColumn(\"overlap_count\", F.size(F.col(\"overlap\")))\n",
    "\n",
    "# # remove overlaps ignoring nulls using when\n",
    "# product_data = product_data.withColumn(\"category_clean\", \n",
    "#                                         F.when(F.col('overlap').isNotNull(),\n",
    "#                                                F.array_except(F.col(\"category\"),F.col(\"overlap\")))\n",
    "#                                             .otherwise(F.col(\"category\"))\n",
    "#                                        )\n",
    "\n",
    "####################################\n",
    "\n",
    "# # prior to preprocess\n",
    "# this method creates another dataframe\n",
    "# find the overlaps \n",
    "df_overlap = product_data.select(F.col('asin'),\n",
    "                                 F.array_intersect(F.col('category'),F.col('feature')).alias('overlap'),\n",
    "                                 F.size(F.col('category')).alias(\"category_size\"),\n",
    "                                 F.size(F.col('feature')).alias(\"feature_size\")\n",
    "                                 )\n",
    "df_overlap = df_overlap.withColumn(\"overlap_count\",F.size(F.col(\"overlap\")))\n",
    "# df_overlap.show(truncate=0)\n",
    "\n",
    "\n",
    "# left join the two df on asin\n",
    "product_data = product_data.join(df_overlap.select('asin','overlap'), on = 'asin', how='left')\n",
    "\n",
    "# remove the overlapping elements from category and drop overlap\n",
    "product_data = product_data.withColumn(\"category\",\n",
    "                                       F.array_except(F.col('category'),F.col('overlap'))\n",
    "                                       ).drop('overlap')\n",
    "\n",
    "\n",
    "\n",
    "# change description, and feature into string type \n",
    "product_data = product_data.withColumns({'description':F.concat_ws(',','description'),\n",
    "                                         'feature':F.concat_ws(',','feature')\n",
    "                                        })"
   ]
  },
  {
   "cell_type": "code",
   "execution_count": 92,
   "metadata": {},
   "outputs": [
    {
     "name": "stderr",
     "output_type": "stream",
     "text": [
      "[Stage 120:>                                                        (0 + 1) / 1]\r"
     ]
    },
    {
     "name": "stdout",
     "output_type": "stream",
     "text": [
      "+-----------------------------------------------------------------------------------------------------------------+\n",
      "|array_distinct(category)                                                                                         |\n",
      "+-----------------------------------------------------------------------------------------------------------------+\n",
      "|[Clothing, Shoes & Jewelry, Women, Jewelry, Necklaces]                                                           |\n",
      "|[Clothing, Shoes & Jewelry, Women, Clothing, Active, Active Pants]                                               |\n",
      "|[Clothing, Shoes & Jewelry, Luggage & Travel Gear, Travel Accessories, Luggage Tags & Handle Wraps, Luggage Tags]|\n",
      "|[Clothing, Shoes & Jewelry, Men, Watches, Wrist Watches]                                                         |\n",
      "|[Clothing, Shoes & Jewelry, Women, Shoes, Loafers & Slip-Ons]                                                    |\n",
      "|[Clothing, Shoes & Jewelry, Women, Shoes, Sandals]                                                               |\n",
      "|[Leather, Floral printed plainweave lining, zipper closure, 15.5\" shoulder drop, 11\" high, 11\" wide]             |\n",
      "|[Clothing, Shoes & Jewelry, Women, Jewelry, Earrings]                                                            |\n",
      "|[Clothing, Shoes & Jewelry, Women, Jewelry, Bracelets, Charms & Charm Bracelets, Charms, Italian Style]          |\n",
      "|[Clothing, Shoes & Jewelry, Costumes & Accessories, Kids & Baby, Boys, Costumes]                                 |\n",
      "|[Clothing, Shoes & Jewelry, Costumes & Accessories, Kids & Baby, Girls, Costumes]                                |\n",
      "|[Clothing, Shoes & Jewelry, Baby, Baby Boys, Accessories, Socks]                                                 |\n",
      "|[Clothing, Shoes & Jewelry, Women, Clothing, Tops, Tees & Blouses, Knits & Tees]                                 |\n",
      "|[Clothing, Shoes & Jewelry, Women]                                                                               |\n",
      "|[Clothing, Shoes & Jewelry, Luggage & Travel Gear, Backpacks, Casual Daypacks]                                   |\n",
      "|[Clothing, Shoes & Jewelry, Men, Shoes, Athletic, Team Sports, Basketball]                                       |\n",
      "|[Clothing, Shoes & Jewelry, Men, Shoes, Athletic, Running, Road Running]                                         |\n",
      "|[Clothing, Shoes & Jewelry, Costumes & Accessories, Kids & Baby, Girls, Costumes]                                |\n",
      "|[Clothing, Shoes & Jewelry, Men, Watches, Wrist Watches]                                                         |\n",
      "|[Clothing, Shoes & Jewelry, Novelty & More, Clothing, Novelty, Men, Hoodies]                                     |\n",
      "+-----------------------------------------------------------------------------------------------------------------+\n",
      "only showing top 20 rows\n",
      "\n"
     ]
    },
    {
     "name": "stderr",
     "output_type": "stream",
     "text": [
      "                                                                                \r"
     ]
    }
   ],
   "source": [
    "product_data.select(F.array_distinct(F.col(\"category\"))).show(truncate=False)\n",
    "# need to remove leading white space\n",
    "# spearate &\n",
    "# remove the leading 'clothing, shoes & jewerly' elemnets"
   ]
  },
  {
   "cell_type": "code",
   "execution_count": null,
   "metadata": {},
   "outputs": [],
   "source": [
    "product_data.show()"
   ]
  },
  {
   "cell_type": "markdown",
   "metadata": {},
   "source": [
    "# Cleaning up Category\n",
    "**Hypothesis** The `category` column is a mix of actual categories and features/description. \n",
    "- Check the overlap between `category` and `feature` and see if this hypothesis is true\n",
    "- Pre-process both columns -> Tokenize -> Find intersection"
   ]
  },
  {
   "cell_type": "code",
   "execution_count": null,
   "metadata": {},
   "outputs": [],
   "source": [
    "# remove all white space and digits\n",
    "EXP = r'Clothing, Shoes & Jewelry|\\W+|\\d+'\n",
    "\n",
    "product_data=product_data.withColumn('category', \n",
    "                                    F.lower(\n",
    "                                        F.regexp_replace('category',EXP,' ') \n",
    "                                        )\n",
    "                                    )\n",
    "\n",
    "product_data=product_data.withColumn('feature', \n",
    "                                    F.lower(\n",
    "                                        F.regexp_replace('feature',EXP,' ') \n",
    "                                        )\n",
    "                                    )\n",
    "\n",
    "\n",
    "\n",
    "product_data.select('category','feature').show(truncate=False)"
   ]
  },
  {
   "cell_type": "markdown",
   "metadata": {},
   "source": [
    "___"
   ]
  },
  {
   "cell_type": "code",
   "execution_count": 93,
   "metadata": {},
   "outputs": [],
   "source": [
    "# clears cache and end session \n",
    "spark.stop()"
   ]
  }
 ],
 "metadata": {
  "kernelspec": {
   "display_name": "amazon",
   "language": "python",
   "name": "python3"
  },
  "language_info": {
   "codemirror_mode": {
    "name": "ipython",
    "version": 3
   },
   "file_extension": ".py",
   "mimetype": "text/x-python",
   "name": "python",
   "nbconvert_exporter": "python",
   "pygments_lexer": "ipython3",
   "version": "3.12.5"
  },
  "orig_nbformat": 4
 },
 "nbformat": 4,
 "nbformat_minor": 2
}
